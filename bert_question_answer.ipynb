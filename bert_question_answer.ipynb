{
  "nbformat": 4,
  "nbformat_minor": 0,
  "metadata": {
    "colab": {
      "name": "bert_question_answer.ipynb",
      "provenance": [],
      "collapsed_sections": []
    },
    "kernelspec": {
      "name": "python3",
      "display_name": "Python 3"
    }
  },
  "cells": [
    {
      "cell_type": "code",
      "metadata": {
        "id": "g1ePcze5rRDz"
      },
      "source": [
        "!pip install transformers\n"
      ],
      "execution_count": 3,
      "outputs": []
    },
    {
      "cell_type": "code",
      "metadata": {
        "id": "41bpivFSxTj3"
      },
      "source": [
        "from transformers import pipeline\n",
        "from transformers import AutoTokenizer, AutoModelForQuestionAnswering\n",
        "import torch\n",
        "import matplotlib.pyplot as plt"
      ],
      "execution_count": 161,
      "outputs": []
    },
    {
      "cell_type": "code",
      "metadata": {
        "id": "NdwkqCWerS1r"
      },
      "source": [
        "tokenizer = AutoTokenizer.from_pretrained(\"bert-large-uncased-whole-word-masking-finetuned-squad\")\n",
        "model = AutoModelForQuestionAnswering.from_pretrained(\"bert-large-uncased-whole-word-masking-finetuned-squad\")\n",
        "\n"
      ],
      "execution_count": 162,
      "outputs": []
    },
    {
      "cell_type": "code",
      "metadata": {
        "colab": {
          "base_uri": "https://localhost:8080/"
        },
        "id": "mMTxRm05ttXH",
        "outputId": "9fc6299b-7701-4a69-f53c-082d74757ca6"
      },
      "source": [
        "model.base_model.config"
      ],
      "execution_count": 163,
      "outputs": [
        {
          "output_type": "execute_result",
          "data": {
            "text/plain": [
              "BertConfig {\n",
              "  \"_name_or_path\": \"bert-large-uncased-whole-word-masking-finetuned-squad\",\n",
              "  \"architectures\": [\n",
              "    \"BertForQuestionAnswering\"\n",
              "  ],\n",
              "  \"attention_probs_dropout_prob\": 0.1,\n",
              "  \"gradient_checkpointing\": false,\n",
              "  \"hidden_act\": \"gelu\",\n",
              "  \"hidden_dropout_prob\": 0.1,\n",
              "  \"hidden_size\": 1024,\n",
              "  \"initializer_range\": 0.02,\n",
              "  \"intermediate_size\": 4096,\n",
              "  \"layer_norm_eps\": 1e-12,\n",
              "  \"max_position_embeddings\": 512,\n",
              "  \"model_type\": \"bert\",\n",
              "  \"num_attention_heads\": 16,\n",
              "  \"num_hidden_layers\": 24,\n",
              "  \"pad_token_id\": 0,\n",
              "  \"position_embedding_type\": \"absolute\",\n",
              "  \"transformers_version\": \"4.5.1\",\n",
              "  \"type_vocab_size\": 2,\n",
              "  \"use_cache\": true,\n",
              "  \"vocab_size\": 30522\n",
              "}"
            ]
          },
          "metadata": {
            "tags": []
          },
          "execution_count": 163
        }
      ]
    },
    {
      "cell_type": "code",
      "metadata": {
        "colab": {
          "base_uri": "https://localhost:8080/"
        },
        "id": "dXOxM9YDvjYX",
        "outputId": "7a3dce7d-2050-45c4-d9e6-d30fd085c385"
      },
      "source": [
        "pytorch_total_params = sum(p.numel() for p in model.base_model.parameters() if p.requires_grad)    \n",
        "pytorch_trainable_params = sum(p.numel() for p in model.base_model.parameters() )    \n",
        "print(\"Total number of params\", pytorch_total_params)\n",
        "print(\"Total number of trainable params\", pytorch_trainable_params)"
      ],
      "execution_count": 164,
      "outputs": [
        {
          "output_type": "stream",
          "text": [
            "Total number of params 334092288\n",
            "Total number of trainable params 334092288\n"
          ],
          "name": "stdout"
        }
      ]
    },
    {
      "cell_type": "code",
      "metadata": {
        "id": "ze8T-OOawTd4"
      },
      "source": [
        "text = r\"\"\"Japan is the eleventh-most populous country in the world, as well as one of the most densely populated and urbanized.\n",
        " About three-fourths of the country's terrain is mountainous, concentrating its population of 125.57 million on narrow coastal plains. \n",
        " Japan is divided into 47 administrative prefectures and eight traditional regions.\n",
        " Osaka has a big population of 16 million. \n",
        " The Greater Tokyo Area is the most populous metropolitan area in the world, with more than 37.4 million residents. \n",
        "\"\"\""
      ],
      "execution_count": 165,
      "outputs": []
    },
    {
      "cell_type": "code",
      "metadata": {
        "id": "1J-vzFgL6uJu"
      },
      "source": [
        "import numpy as np\n",
        "def get_top_answers(possible_starts,possible_ends,input_ids):\n",
        "  answers = []\n",
        "  for start,end in zip(possible_starts,possible_ends):\n",
        "    #+1 for end\n",
        "    answer = tokenizer.convert_tokens_to_string(tokenizer.convert_ids_to_tokens(input_ids[start:end+1]))\n",
        "    answers.append( answer )\n",
        "  return answers  \n",
        "\n",
        "def answer_question(question,context,topN):\n",
        "\n",
        "    inputs = tokenizer.encode_plus(question, context, add_special_tokens=True, return_tensors=\"pt\")\n",
        "    \n",
        "    input_ids = inputs[\"input_ids\"].tolist()[0]\n",
        "\n",
        "    text_tokens = tokenizer.convert_ids_to_tokens(input_ids)\n",
        "    model_out = model(**inputs)\n",
        "     \n",
        "    answer_start_scores = model_out[\"start_logits\"]\n",
        "    answer_end_scores = model_out[\"end_logits\"]\n",
        "\n",
        "    possible_starts = np.argsort(answer_start_scores.cpu().detach().numpy()).flatten()[::-1][:topN]\n",
        "    possible_ends = np.argsort(answer_end_scores.cpu().detach().numpy()).flatten()[::-1][:topN]\n",
        "    \n",
        "    #get best answer\n",
        "    answer_start = torch.argmax(answer_start_scores)  \n",
        "    answer_end = torch.argmax(answer_end_scores) + 1  # Get the most likely end of answer with the argmax of the score\n",
        "\n",
        "    answer = tokenizer.convert_tokens_to_string(tokenizer.convert_ids_to_tokens(input_ids[answer_start:answer_end]))\n",
        "\n",
        "    answers = get_top_answers(possible_starts,possible_ends,input_ids )\n",
        "\n",
        "    return { \"answer\":answer,\"answer_start\":answer_start,\"answer_end\":answer_end,\"input_ids\":input_ids,\n",
        "            \"answer_start_scores\":answer_start_scores,\"answer_end_scores\":answer_end_scores,\"inputs\":inputs,\"answers\":answers,\n",
        "            \"possible_starts\":possible_starts,\"possible_ends\":possible_ends}"
      ],
      "execution_count": 166,
      "outputs": []
    },
    {
      "cell_type": "code",
      "metadata": {
        "id": "pEWBI6hU7K_z"
      },
      "source": [
        "questions = [\n",
        "    \"How many states in Japan?\",\n",
        "    \"What is the population of Japan?\",\n",
        "    \"Which city is most crowded in the world?\",\n",
        "    \"What is the city with most population?\",\n",
        "    \"What is the topic here?\",\n",
        "    \"What are we talking about?\",\n",
        "    \"What is the main idea here?\"\n",
        "]"
      ],
      "execution_count": 167,
      "outputs": []
    },
    {
      "cell_type": "code",
      "metadata": {
        "colab": {
          "base_uri": "https://localhost:8080/"
        },
        "id": "AxBGcFkEAs_U",
        "outputId": "8b00fb16-312d-4e3d-fc09-20f3c42d313a"
      },
      "source": [
        "questions = [    \n",
        "    \"Where is the most populous metropolitan area in the world ?\",\n",
        "    \"Where is the most populous city ?\",\n",
        "    \"What is the most populous city ?\",\n",
        "    \"Where is most populous in the world ?\",\n",
        "    \"Where is most populous?\",\n",
        "    \"What is Population of Tokyo ?\",\n",
        "    \"Which city is most crowded in the world ?\",\n",
        "    \"Which city has biggest population ?\",\n",
        "    \"Which city has most population ?\",\n",
        "    ]\n",
        "\n",
        "questions3 = [\n",
        "    \"Most populous city ?\"  ,    \n",
        "    #\"Most populous city?\"  ,       \n",
        "    \"Most populous city\"  \n",
        "    \n",
        "    ]\n",
        "\n",
        "for q in questions:\n",
        "  answer_map = answer_question(q,text,5)    \n",
        "  print(\"Question:\",q)\n",
        "  print(\"Answers:\")\n",
        "  [print((index+1),\" ) \",ans) for index,ans in  enumerate(answer_map[\"answers\"]) if len(ans) > 0 ]\n",
        " \n",
        "  "
      ],
      "execution_count": 168,
      "outputs": [
        {
          "output_type": "stream",
          "text": [
            "Question: Where is the most populous metropolitan area in the world ?\n",
            "Answers:\n",
            "1  )  greater tokyo area\n",
            "2  )  the greater tokyo\n",
            "3  )  tokyo area is the most populous metropolitan area in the world, with more than 37. 4 million residents.\n",
            "4  )  japan is the eleventh - most populous country in the world, as well as one of the most densely populated and urbanized. about three - fourths of the country's terrain is mountainous, concentrating its population of 125. 57 million on narrow coastal plains. japan is divided into 47 administrative prefectures and eight traditional regions. osaka has a big population of 16 million. the greater tokyo area is the most populous metropolitan area in the world\n",
            "5  )  japan is divided into 47 administrative prefectures and eight traditional regions. osaka has a big population of 16 million. the greater tokyo area is the most populous metropolitan area in the world,\n",
            "Question: Where is the most populous city ?\n",
            "Answers:\n",
            "1  )  osaka\n",
            "2  )  greater tokyo\n",
            "4  )  japan\n",
            "5  )  the greater tokyo area\n",
            "Question: What is the most populous city ?\n",
            "Answers:\n",
            "1  )  osaka has a big population of 16 million. the greater tokyo\n",
            "5  )  japan is the eleventh - most populous country in the world, as well as one of the most densely populated and urbanized. about three - fourths of the country's terrain is mountainous, concentrating its population of 125. 57 million on narrow coastal plains. japan is divided into 47 administrative prefectures and eight traditional regions. osaka has a big population of 16 million. the greater tokyo area\n",
            "Question: Where is most populous in the world ?\n",
            "Answers:\n",
            "1  )  japan is the eleventh\n",
            "3  )  the eleventh - most populous country in the world\n",
            "Question: Where is most populous?\n",
            "Answers:\n",
            "1  )  eleventh - most populous country in the world\n",
            "2  )  japan is the eleventh\n",
            "Question: What is Population of Tokyo ?\n",
            "Answers:\n",
            "1  )  37. 4 million\n",
            "2  )  more than 37. 4 million residents\n",
            "3  )  the greater tokyo area is the most populous metropolitan area in the world, with more than 37. 4 million residents.\n",
            "4  )  tokyo area is the most populous metropolitan area in the world, with more than 37. 4\n",
            "5  )  greater tokyo area is the most populous metropolitan area in the world, with more than 37\n",
            "Question: Which city is most crowded in the world ?\n",
            "Answers:\n",
            "1  )  japan\n",
            "2  )  tokyo\n",
            "3  )  osaka\n",
            "5  )  the greater tokyo area is the most populous metropolitan area in the world, with more than 37. 4 million residents.\n",
            "Question: Which city has biggest population ?\n",
            "Answers:\n",
            "1  )  osaka\n",
            "2  )  16 million\n",
            "4  )  japan is the eleventh - most populous country in the world, as well as one of the most densely populated and urbanized. about three - fourths of the country's terrain is mountainous, concentrating its population of 125. 57 million on narrow coastal plains. japan is divided into 47 administrative prefectures and eight traditional regions. osaka has a big population of 16 million. the greater tokyo\n",
            "Question: Which city has most population ?\n",
            "Answers:\n",
            "1  )  osaka\n",
            "2  )  japan is the eleventh - most populous country in the world, as well as one of the most densely populated and urbanized. about three - fourths of the country's terrain is mountainous, concentrating its population of 125. 57 million on narrow coastal plains. japan is divided into 47 administrative prefectures and eight traditional regions. osaka has a big population of 16 million.\n",
            "4  )  greater tokyo\n"
          ],
          "name": "stdout"
        }
      ]
    },
    {
      "cell_type": "code",
      "metadata": {
        "id": "lT7QWo6W7IyE"
      },
      "source": [
        "answer_map = answer_question(\"Where is most populous in the world?\",text,3)"
      ],
      "execution_count": 169,
      "outputs": []
    },
    {
      "cell_type": "code",
      "metadata": {
        "colab": {
          "base_uri": "https://localhost:8080/"
        },
        "id": "mfHt4iM-9_sU",
        "outputId": "bc2a9910-19a4-466a-9bb2-24ae0609409c"
      },
      "source": [
        "print(\"input_ids:\",answer_map[\"inputs\"][\"input_ids\"] )\n",
        "print(\"token_type_ids:\",answer_map[\"inputs\"][\"token_type_ids\"] )\n",
        "print(\"attention_mask:\",answer_map[\"inputs\"][\"attention_mask\"] )\n",
        "#answer_map[\"inputs\"]"
      ],
      "execution_count": 170,
      "outputs": [
        {
          "output_type": "stream",
          "text": [
            "input_ids: tensor([[  101,  2073,  2003,  2087, 20151,  1999,  1996,  2088,  1029,   102,\n",
            "          2900,  2003,  1996, 11911,  1011,  2087, 20151,  2406,  1999,  1996,\n",
            "          2088,  1010,  2004,  2092,  2004,  2028,  1997,  1996,  2087, 19441,\n",
            "         10357,  1998,  3923,  3550,  1012,  2055,  2093,  1011,  2959,  2015,\n",
            "          1997,  1996,  2406,  1005,  1055,  9291,  2003, 14897,  1010, 16966,\n",
            "          2049,  2313,  1997,  8732,  1012,  5401,  2454,  2006,  4867,  5780,\n",
            "          8575,  1012,  2900,  2003,  4055,  2046,  4700,  3831,  7498,  2015,\n",
            "          1998,  2809,  3151,  4655,  1012, 13000,  2038,  1037,  2502,  2313,\n",
            "          1997,  2385,  2454,  1012,  1996,  3618,  5522,  2181,  2003,  1996,\n",
            "          2087, 20151,  4956,  2181,  1999,  1996,  2088,  1010,  2007,  2062,\n",
            "          2084,  4261,  1012,  1018,  2454,  3901,  1012,   102]])\n",
            "token_type_ids: tensor([[0, 0, 0, 0, 0, 0, 0, 0, 0, 0, 1, 1, 1, 1, 1, 1, 1, 1, 1, 1, 1, 1, 1, 1,\n",
            "         1, 1, 1, 1, 1, 1, 1, 1, 1, 1, 1, 1, 1, 1, 1, 1, 1, 1, 1, 1, 1, 1, 1, 1,\n",
            "         1, 1, 1, 1, 1, 1, 1, 1, 1, 1, 1, 1, 1, 1, 1, 1, 1, 1, 1, 1, 1, 1, 1, 1,\n",
            "         1, 1, 1, 1, 1, 1, 1, 1, 1, 1, 1, 1, 1, 1, 1, 1, 1, 1, 1, 1, 1, 1, 1, 1,\n",
            "         1, 1, 1, 1, 1, 1, 1, 1, 1, 1, 1, 1]])\n",
            "attention_mask: tensor([[1, 1, 1, 1, 1, 1, 1, 1, 1, 1, 1, 1, 1, 1, 1, 1, 1, 1, 1, 1, 1, 1, 1, 1,\n",
            "         1, 1, 1, 1, 1, 1, 1, 1, 1, 1, 1, 1, 1, 1, 1, 1, 1, 1, 1, 1, 1, 1, 1, 1,\n",
            "         1, 1, 1, 1, 1, 1, 1, 1, 1, 1, 1, 1, 1, 1, 1, 1, 1, 1, 1, 1, 1, 1, 1, 1,\n",
            "         1, 1, 1, 1, 1, 1, 1, 1, 1, 1, 1, 1, 1, 1, 1, 1, 1, 1, 1, 1, 1, 1, 1, 1,\n",
            "         1, 1, 1, 1, 1, 1, 1, 1, 1, 1, 1, 1]])\n"
          ],
          "name": "stdout"
        }
      ]
    },
    {
      "cell_type": "code",
      "metadata": {
        "colab": {
          "base_uri": "https://localhost:8080/",
          "height": 92
        },
        "id": "x-xIe5969TK5",
        "outputId": "a6764245-1d02-4823-fa28-058aa4d753cb"
      },
      "source": [
        "print( len(answer_map[\"input_ids\"] ))\n",
        "tokenizer.decode( answer_map[\"input_ids\"] )  "
      ],
      "execution_count": 171,
      "outputs": [
        {
          "output_type": "stream",
          "text": [
            "108\n"
          ],
          "name": "stdout"
        },
        {
          "output_type": "execute_result",
          "data": {
            "application/vnd.google.colaboratory.intrinsic+json": {
              "type": "string"
            },
            "text/plain": [
              "\"[CLS] where is most populous in the world? [SEP] japan is the eleventh - most populous country in the world, as well as one of the most densely populated and urbanized. about three - fourths of the country's terrain is mountainous, concentrating its population of 125. 57 million on narrow coastal plains. japan is divided into 47 administrative prefectures and eight traditional regions. osaka has a big population of 16 million. the greater tokyo area is the most populous metropolitan area in the world, with more than 37. 4 million residents. [SEP]\""
            ]
          },
          "metadata": {
            "tags": []
          },
          "execution_count": 171
        }
      ]
    },
    {
      "cell_type": "code",
      "metadata": {
        "id": "CLbY5yWAoPCz"
      },
      "source": [
        "def plot_possible_answer(start_scores,end_scores):\n",
        "  fig,axes = plt.subplots(2,1)\n",
        "  y_start = start_scores.detach().numpy().flatten()\n",
        "  x_start = [i for i in range(len(y_start))]\n",
        "\n",
        "  y_end = end_scores.detach().numpy().flatten()\n",
        "  x_end = [i for i in range(len(y_end))]\n",
        "\n",
        "  axes[0].bar(x_start,y_start)\n",
        "  axes[0].set_title(\"start scores( \"+ str( len( y_start ) ) +\")\" )\n",
        "  axes[1].bar(x_end,y_end, color=\"orange\")\n",
        "  axes[1].set_title(\"end scores( \"+ str( len( y_end ) ) +\")\" )\n",
        "  fig.tight_layout()\n"
      ],
      "execution_count": 172,
      "outputs": []
    },
    {
      "cell_type": "code",
      "metadata": {
        "colab": {
          "base_uri": "https://localhost:8080/",
          "height": 297
        },
        "id": "HpE3rknLof9H",
        "outputId": "679573b2-fe1d-4bae-b03d-14c8033f88c9"
      },
      "source": [
        "plot_possible_answer(answer_map[\"answer_start_scores\"],answer_map[\"answer_end_scores\"])"
      ],
      "execution_count": 173,
      "outputs": [
        {
          "output_type": "display_data",
          "data": {
            "image/png": "[encoded data removed]",
            "text/plain": [
              "<Figure size 432x288 with 2 Axes>"
            ]
          },
          "metadata": {
            "tags": [],
            "needs_background": "light"
          }
        }
      ]
    },
    {
      "cell_type": "code",
      "metadata": {
        "id": "vpxEeqjGof6T"
      },
      "source": [
        ""
      ],
      "execution_count": 173,
      "outputs": []
    },
    {
      "cell_type": "code",
      "metadata": {
        "id": "iuK7w2tjof3c"
      },
      "source": [
        ""
      ],
      "execution_count": 173,
      "outputs": []
    },
    {
      "cell_type": "code",
      "metadata": {
        "id": "ZPdhEmUiofxB"
      },
      "source": [
        ""
      ],
      "execution_count": null,
      "outputs": []
    },
    {
      "cell_type": "code",
      "metadata": {
        "id": "Q_Hm8p1zkEc2"
      },
      "source": [
        "\n",
        "\n"
      ],
      "execution_count": 159,
      "outputs": []
    },
    {
      "cell_type": "code",
      "metadata": {
        "id": "l4XzEaJR7V1X"
      },
      "source": [
        ""
      ],
      "execution_count": 160,
      "outputs": []
    },
    {
      "cell_type": "code",
      "metadata": {
        "id": "MEPuSmeC7VzB"
      },
      "source": [
        ""
      ],
      "execution_count": 160,
      "outputs": []
    },
    {
      "cell_type": "code",
      "metadata": {
        "id": "sz2tZAhz7Vwk"
      },
      "source": [
        ""
      ],
      "execution_count": null,
      "outputs": []
    },
    {
      "cell_type": "code",
      "metadata": {
        "id": "_YL5l16XxzOC"
      },
      "source": [
        "\n"
      ],
      "execution_count": 159,
      "outputs": []
    },
    {
      "cell_type": "code",
      "metadata": {
        "id": "btKbrgWI6tEd"
      },
      "source": [
        ""
      ],
      "execution_count": 159,
      "outputs": []
    },
    {
      "cell_type": "code",
      "metadata": {
        "id": "DhaTTXqEyLsz"
      },
      "source": [
        ""
      ],
      "execution_count": 159,
      "outputs": []
    },
    {
      "cell_type": "code",
      "metadata": {
        "id": "U74lIdEYBk6a"
      },
      "source": [
        ""
      ],
      "execution_count": 159,
      "outputs": []
    },
    {
      "cell_type": "code",
      "metadata": {
        "id": "_qAEqr7IB8HG"
      },
      "source": [
        ""
      ],
      "execution_count": 159,
      "outputs": []
    },
    {
      "cell_type": "code",
      "metadata": {
        "id": "kbLg6uABB_9y"
      },
      "source": [
        ""
      ],
      "execution_count": 159,
      "outputs": []
    },
    {
      "cell_type": "code",
      "metadata": {
        "id": "HhfSnJuaC8Ks"
      },
      "source": [
        ""
      ],
      "execution_count": null,
      "outputs": []
    }
  ]
}