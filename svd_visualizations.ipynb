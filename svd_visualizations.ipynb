{
 "cells": [
  {
   "cell_type": "code",
   "execution_count": 1,
   "metadata": {
    "id": "muEXbZ25b2wI"
   },
   "outputs": [],
   "source": [
    "import pandas as pd\n",
    "import io\n",
    "from sklearn.decomposition import PCA\n",
    "from sklearn.manifold import TSNE\n",
    "from sklearn.metrics.pairwise import cosine_similarity\n",
    "import matplotlib\n",
    "import matplotlib.pyplot as plt \n"
   ]
  },
  {
   "cell_type": "code",
   "execution_count": 2,
   "metadata": {},
   "outputs": [],
   "source": [
    "#!pip install numpy"
   ]
  },
  {
   "cell_type": "code",
   "execution_count": null,
   "metadata": {
    "id": "Wip56al9mH4X"
   },
   "outputs": [],
   "source": []
  },
  {
   "cell_type": "code",
   "execution_count": 3,
   "metadata": {
    "id": "TZedhHlzcYhP"
   },
   "outputs": [],
   "source": [
    "#you can also find the csv \n",
    "#url = 'https://raw.githubusercontent.com/mcelikkaya/medium_articles2/main/user_movie_rating.csv'\n",
    "#df_user_movie_rating = pd.read_csv(url)\n",
    "\n",
    "\n",
    "df_user_movie_rating = pd.read_csv(\"D:/user_movie_rating.csv\")"
   ]
  },
  {
   "cell_type": "code",
   "execution_count": 4,
   "metadata": {},
   "outputs": [
    {
     "data": {
      "text/plain": [
       "105339"
      ]
     },
     "execution_count": 4,
     "metadata": {},
     "output_type": "execute_result"
    }
   ],
   "source": [
    "len(df_user_movie_rating)"
   ]
  },
  {
   "cell_type": "code",
   "execution_count": 5,
   "metadata": {},
   "outputs": [],
   "source": []
  },
  {
   "cell_type": "code",
   "execution_count": 6,
   "metadata": {},
   "outputs": [],
   "source": []
  },
  {
   "cell_type": "code",
   "execution_count": 7,
   "metadata": {
    "colab": {
     "base_uri": "https://localhost:8080/",
     "height": 201
    },
    "id": "itMoB5lxdGD7",
    "outputId": "86ea6c8c-674e-4a47-c92e-4d0eebf8256b"
   },
   "outputs": [
    {
     "data": {
      "text/html": [
       "<div>\n",
       "<style scoped>\n",
       "    .dataframe tbody tr th:only-of-type {\n",
       "        vertical-align: middle;\n",
       "    }\n",
       "\n",
       "    .dataframe tbody tr th {\n",
       "        vertical-align: top;\n",
       "    }\n",
       "\n",
       "    .dataframe thead th {\n",
       "        text-align: right;\n",
       "    }\n",
       "</style>\n",
       "<table border=\"1\" class=\"dataframe\">\n",
       "  <thead>\n",
       "    <tr style=\"text-align: right;\">\n",
       "      <th></th>\n",
       "      <th>userId</th>\n",
       "      <th>movieId</th>\n",
       "      <th>rating</th>\n",
       "      <th>title</th>\n",
       "      <th>genres</th>\n",
       "    </tr>\n",
       "  </thead>\n",
       "  <tbody>\n",
       "    <tr>\n",
       "      <th>0</th>\n",
       "      <td>1</td>\n",
       "      <td>16</td>\n",
       "      <td>4.0</td>\n",
       "      <td>Casino (1995)</td>\n",
       "      <td>Crime|Drama</td>\n",
       "    </tr>\n",
       "    <tr>\n",
       "      <th>1</th>\n",
       "      <td>9</td>\n",
       "      <td>16</td>\n",
       "      <td>4.0</td>\n",
       "      <td>Casino (1995)</td>\n",
       "      <td>Crime|Drama</td>\n",
       "    </tr>\n",
       "    <tr>\n",
       "      <th>2</th>\n",
       "      <td>12</td>\n",
       "      <td>16</td>\n",
       "      <td>1.5</td>\n",
       "      <td>Casino (1995)</td>\n",
       "      <td>Crime|Drama</td>\n",
       "    </tr>\n",
       "    <tr>\n",
       "      <th>3</th>\n",
       "      <td>24</td>\n",
       "      <td>16</td>\n",
       "      <td>4.0</td>\n",
       "      <td>Casino (1995)</td>\n",
       "      <td>Crime|Drama</td>\n",
       "    </tr>\n",
       "    <tr>\n",
       "      <th>4</th>\n",
       "      <td>29</td>\n",
       "      <td>16</td>\n",
       "      <td>3.0</td>\n",
       "      <td>Casino (1995)</td>\n",
       "      <td>Crime|Drama</td>\n",
       "    </tr>\n",
       "  </tbody>\n",
       "</table>\n",
       "</div>"
      ],
      "text/plain": [
       "   userId  movieId  rating          title       genres\n",
       "0       1       16     4.0  Casino (1995)  Crime|Drama\n",
       "1       9       16     4.0  Casino (1995)  Crime|Drama\n",
       "2      12       16     1.5  Casino (1995)  Crime|Drama\n",
       "3      24       16     4.0  Casino (1995)  Crime|Drama\n",
       "4      29       16     3.0  Casino (1995)  Crime|Drama"
      ]
     },
     "execution_count": 7,
     "metadata": {},
     "output_type": "execute_result"
    }
   ],
   "source": [
    "df_user_movie_rating.head(5)"
   ]
  },
  {
   "cell_type": "code",
   "execution_count": 8,
   "metadata": {},
   "outputs": [
    {
     "data": {
      "text/plain": [
       "userId       668\n",
       "movieId    10325\n",
       "rating        10\n",
       "title      10323\n",
       "genres       938\n",
       "dtype: int64"
      ]
     },
     "execution_count": 8,
     "metadata": {},
     "output_type": "execute_result"
    }
   ],
   "source": [
    "#checks unique values\n",
    "df_user_movie_rating.nunique()"
   ]
  },
  {
   "cell_type": "code",
   "execution_count": 9,
   "metadata": {},
   "outputs": [
    {
     "name": "stdout",
     "output_type": "stream",
     "text": [
      "max_id : 668\n",
      "my_id : 669\n"
     ]
    }
   ],
   "source": [
    "#get the max id in set, and add yourself as next user\n",
    "max_id = max(df_user_movie_rating[\"userId\"])\n",
    "print(\"max_id :\",max_id)\n",
    "my_id = max_id + 1\n",
    "print(\"my_id :\",my_id)"
   ]
  },
  {
   "cell_type": "code",
   "execution_count": 10,
   "metadata": {},
   "outputs": [],
   "source": [
    "#create a map of movieId -> title\n",
    "title_movieId_map = { y:x for x,y in df_user_movie_rating[ [\"movieId\",\"title\"] ].to_numpy() }\n",
    "#'Casino (1995)': 16,\n",
    "# 'Powder (1995)': 24,"
   ]
  },
  {
   "cell_type": "code",
   "execution_count": 11,
   "metadata": {},
   "outputs": [],
   "source": [
    "#defines movies that you want to rate 5 or whatever u want (change the 5 at 1st loop )\n",
    "my_5_list = ['Braveheart (1995)','Seven (a.k.a. Se7en) (1995)','Twelve Monkeys (a.k.a. 12 Monkeys) (1995)',\n",
    "             'Star Wars: Episode VI - Return of the Jedi (1983)','Seven Samurai (Shichinin no samurai) (1954)',\n",
    "             'Shrek 2 (2004)','Truman Show, The (1998)','Terminator, The (1984)','Rocky (1976)','Mummy, The (1999)'\n",
    "             ]\n",
    "\n",
    "#defines movies that you want to rate 2 or whatever u want (change the 2 at 2nd loop )\n",
    "my_2_list = [ 'Dumb & Dumber (Dumb and Dumber) (1994)','Kill Bill: Vol. 2 (2004)','Space Jam (1996)' ]\n",
    "\n",
    "for my_5 in my_5_list:\n",
    "    movide_id = title_movieId_map[my_5] \n",
    "    df_user_movie_rating.loc[len(df_user_movie_rating)] = [my_id, movide_id, 5,my_5,\"nogenre\"] \n",
    "\n",
    "for my_2 in my_2_list:\n",
    "    movide_id = title_movieId_map[my_2] \n",
    "    df_user_movie_rating.loc[len(df_user_movie_rating)] = [my_id, movide_id, 2,my_2,\"nogenre\"] "
   ]
  },
  {
   "cell_type": "code",
   "execution_count": 12,
   "metadata": {},
   "outputs": [
    {
     "data": {
      "text/html": [
       "<div>\n",
       "<style scoped>\n",
       "    .dataframe tbody tr th:only-of-type {\n",
       "        vertical-align: middle;\n",
       "    }\n",
       "\n",
       "    .dataframe tbody tr th {\n",
       "        vertical-align: top;\n",
       "    }\n",
       "\n",
       "    .dataframe thead th {\n",
       "        text-align: right;\n",
       "    }\n",
       "</style>\n",
       "<table border=\"1\" class=\"dataframe\">\n",
       "  <thead>\n",
       "    <tr style=\"text-align: right;\">\n",
       "      <th></th>\n",
       "      <th>userId</th>\n",
       "      <th>movieId</th>\n",
       "      <th>rating</th>\n",
       "      <th>title</th>\n",
       "      <th>genres</th>\n",
       "    </tr>\n",
       "  </thead>\n",
       "  <tbody>\n",
       "    <tr>\n",
       "      <th>105339</th>\n",
       "      <td>669</td>\n",
       "      <td>110</td>\n",
       "      <td>5.0</td>\n",
       "      <td>Braveheart (1995)</td>\n",
       "      <td>nogenre</td>\n",
       "    </tr>\n",
       "    <tr>\n",
       "      <th>105340</th>\n",
       "      <td>669</td>\n",
       "      <td>47</td>\n",
       "      <td>5.0</td>\n",
       "      <td>Seven (a.k.a. Se7en) (1995)</td>\n",
       "      <td>nogenre</td>\n",
       "    </tr>\n",
       "    <tr>\n",
       "      <th>105341</th>\n",
       "      <td>669</td>\n",
       "      <td>32</td>\n",
       "      <td>5.0</td>\n",
       "      <td>Twelve Monkeys (a.k.a. 12 Monkeys) (1995)</td>\n",
       "      <td>nogenre</td>\n",
       "    </tr>\n",
       "    <tr>\n",
       "      <th>105342</th>\n",
       "      <td>669</td>\n",
       "      <td>1210</td>\n",
       "      <td>5.0</td>\n",
       "      <td>Star Wars: Episode VI - Return of the Jedi (1983)</td>\n",
       "      <td>nogenre</td>\n",
       "    </tr>\n",
       "    <tr>\n",
       "      <th>105343</th>\n",
       "      <td>669</td>\n",
       "      <td>2019</td>\n",
       "      <td>5.0</td>\n",
       "      <td>Seven Samurai (Shichinin no samurai) (1954)</td>\n",
       "      <td>nogenre</td>\n",
       "    </tr>\n",
       "    <tr>\n",
       "      <th>105344</th>\n",
       "      <td>669</td>\n",
       "      <td>8360</td>\n",
       "      <td>5.0</td>\n",
       "      <td>Shrek 2 (2004)</td>\n",
       "      <td>nogenre</td>\n",
       "    </tr>\n",
       "    <tr>\n",
       "      <th>105345</th>\n",
       "      <td>669</td>\n",
       "      <td>1682</td>\n",
       "      <td>5.0</td>\n",
       "      <td>Truman Show, The (1998)</td>\n",
       "      <td>nogenre</td>\n",
       "    </tr>\n",
       "    <tr>\n",
       "      <th>105346</th>\n",
       "      <td>669</td>\n",
       "      <td>1240</td>\n",
       "      <td>5.0</td>\n",
       "      <td>Terminator, The (1984)</td>\n",
       "      <td>nogenre</td>\n",
       "    </tr>\n",
       "    <tr>\n",
       "      <th>105347</th>\n",
       "      <td>669</td>\n",
       "      <td>1954</td>\n",
       "      <td>5.0</td>\n",
       "      <td>Rocky (1976)</td>\n",
       "      <td>nogenre</td>\n",
       "    </tr>\n",
       "    <tr>\n",
       "      <th>105348</th>\n",
       "      <td>669</td>\n",
       "      <td>2617</td>\n",
       "      <td>5.0</td>\n",
       "      <td>Mummy, The (1999)</td>\n",
       "      <td>nogenre</td>\n",
       "    </tr>\n",
       "    <tr>\n",
       "      <th>105349</th>\n",
       "      <td>669</td>\n",
       "      <td>231</td>\n",
       "      <td>2.0</td>\n",
       "      <td>Dumb &amp; Dumber (Dumb and Dumber) (1994)</td>\n",
       "      <td>nogenre</td>\n",
       "    </tr>\n",
       "    <tr>\n",
       "      <th>105350</th>\n",
       "      <td>669</td>\n",
       "      <td>7438</td>\n",
       "      <td>2.0</td>\n",
       "      <td>Kill Bill: Vol. 2 (2004)</td>\n",
       "      <td>nogenre</td>\n",
       "    </tr>\n",
       "    <tr>\n",
       "      <th>105351</th>\n",
       "      <td>669</td>\n",
       "      <td>673</td>\n",
       "      <td>2.0</td>\n",
       "      <td>Space Jam (1996)</td>\n",
       "      <td>nogenre</td>\n",
       "    </tr>\n",
       "  </tbody>\n",
       "</table>\n",
       "</div>"
      ],
      "text/plain": [
       "        userId  movieId  rating  \\\n",
       "105339     669      110     5.0   \n",
       "105340     669       47     5.0   \n",
       "105341     669       32     5.0   \n",
       "105342     669     1210     5.0   \n",
       "105343     669     2019     5.0   \n",
       "105344     669     8360     5.0   \n",
       "105345     669     1682     5.0   \n",
       "105346     669     1240     5.0   \n",
       "105347     669     1954     5.0   \n",
       "105348     669     2617     5.0   \n",
       "105349     669      231     2.0   \n",
       "105350     669     7438     2.0   \n",
       "105351     669      673     2.0   \n",
       "\n",
       "                                                    title   genres  \n",
       "105339                                  Braveheart (1995)  nogenre  \n",
       "105340                        Seven (a.k.a. Se7en) (1995)  nogenre  \n",
       "105341          Twelve Monkeys (a.k.a. 12 Monkeys) (1995)  nogenre  \n",
       "105342  Star Wars: Episode VI - Return of the Jedi (1983)  nogenre  \n",
       "105343        Seven Samurai (Shichinin no samurai) (1954)  nogenre  \n",
       "105344                                     Shrek 2 (2004)  nogenre  \n",
       "105345                            Truman Show, The (1998)  nogenre  \n",
       "105346                             Terminator, The (1984)  nogenre  \n",
       "105347                                       Rocky (1976)  nogenre  \n",
       "105348                                  Mummy, The (1999)  nogenre  \n",
       "105349             Dumb & Dumber (Dumb and Dumber) (1994)  nogenre  \n",
       "105350                           Kill Bill: Vol. 2 (2004)  nogenre  \n",
       "105351                                   Space Jam (1996)  nogenre  "
      ]
     },
     "execution_count": 12,
     "metadata": {},
     "output_type": "execute_result"
    }
   ],
   "source": [
    "#check your ratings\n",
    "df_user_movie_rating[df_user_movie_rating[\"userId\"]==my_id ]"
   ]
  },
  {
   "cell_type": "code",
   "execution_count": 13,
   "metadata": {
    "colab": {
     "base_uri": "https://localhost:8080/",
     "height": 414
    },
    "id": "A_iRWXkJftcG",
    "outputId": "fc123a28-82f7-42e1-f816-f31d16907393"
   },
   "outputs": [],
   "source": [
    "#check ratings of a movie\n",
    "#df_user_movie_rating[ df_user_movie_rating[\"movieId\"] == 1073  ] "
   ]
  },
  {
   "cell_type": "code",
   "execution_count": null,
   "metadata": {
    "colab": {
     "base_uri": "https://localhost:8080/",
     "height": 48
    },
    "id": "OU17hSbVSl0D",
    "outputId": "c45dca26-5481-41e7-d338-6cecdf70681e"
   },
   "outputs": [],
   "source": []
  },
  {
   "cell_type": "code",
   "execution_count": 14,
   "metadata": {
    "colab": {
     "base_uri": "https://localhost:8080/"
    },
    "id": "P4Tj3QOnK6V8",
    "outputId": "82cc336d-25a0-4216-cf4e-682044ff674d"
   },
   "outputs": [
    {
     "name": "stdout",
     "output_type": "stream",
     "text": [
      "10325\n",
      "['Toy Story (1995)', 'Jumanji (1995)', 'Grumpier Old Men (1995)', 'Waiting to Exhale (1995)']\n",
      "Toy Story (1995)\n",
      "Jumanji (1995)\n"
     ]
    }
   ],
   "source": [
    "#create utility maps\n",
    "movieId_genres_map = { x:y for x,y in df_user_movie_rating[ [\"movieId\",\"genres\"] ].to_numpy() }\n",
    "movieId_title_map = { x:y for x,y in df_user_movie_rating[ [\"movieId\",\"title\"] ].to_numpy() }\n",
    "\n",
    "genres_sorted = [movieId_genres_map[k] for k in sorted(movieId_genres_map.keys())]\n",
    "title_sorted = [movieId_title_map[k] for k in sorted(movieId_title_map.keys())]\n",
    "\n",
    "index_movieId_map = { index:k for index,k in enumerate(sorted(movieId_genres_map.keys())) }\n",
    "movieId_index_map = { index_movieId_map[k]:k for k in index_movieId_map.keys() }\n",
    "\n",
    "print( len(movieId_title_map) )\n",
    "print(title_sorted[0:4])\n",
    "print(movieId_title_map[1] )\n",
    "print(movieId_title_map[2] )\n",
    "    "
   ]
  },
  {
   "cell_type": "code",
   "execution_count": 15,
   "metadata": {
    "id": "SOjPxFLJfaPG"
   },
   "outputs": [],
   "source": [
    "#index_movieId_map[0]\n",
    "#title_sorted"
   ]
  },
  {
   "cell_type": "code",
   "execution_count": null,
   "metadata": {},
   "outputs": [],
   "source": []
  },
  {
   "cell_type": "code",
   "execution_count": null,
   "metadata": {
    "colab": {
     "base_uri": "https://localhost:8080/"
    },
    "id": "9eCoSuSVcw2s",
    "outputId": "8c55e8b9-92bc-4401-f79e-fa50bfe86e64"
   },
   "outputs": [],
   "source": [
    "\n"
   ]
  },
  {
   "cell_type": "code",
   "execution_count": 16,
   "metadata": {
    "id": "iRY1JIRscx03"
   },
   "outputs": [
    {
     "name": "stdout",
     "output_type": "stream",
     "text": [
      "(669, 10325)\n"
     ]
    }
   ],
   "source": [
    "#group by userid,movieid and fill empty values with 0\n",
    "#we can also fill with avg\n",
    "user_item = df_user_movie_rating.groupby(['userId', 'movieId'])['rating'].first().unstack(fill_value=0.0)\n",
    "print(user_item.shape)"
   ]
  },
  {
   "cell_type": "code",
   "execution_count": null,
   "metadata": {},
   "outputs": [],
   "source": []
  },
  {
   "cell_type": "code",
   "execution_count": 17,
   "metadata": {},
   "outputs": [],
   "source": [
    "#get user ids \n",
    "user_ids = user_item.index.values.flatten()\n"
   ]
  },
  {
   "cell_type": "code",
   "execution_count": 18,
   "metadata": {
    "colab": {
     "base_uri": "https://localhost:8080/"
    },
    "id": "2fHaK0kiczSD",
    "outputId": "bf0d77eb-993a-4200-d606-094bec0348e0"
   },
   "outputs": [
    {
     "data": {
      "text/html": [
       "<div>\n",
       "<style scoped>\n",
       "    .dataframe tbody tr th:only-of-type {\n",
       "        vertical-align: middle;\n",
       "    }\n",
       "\n",
       "    .dataframe tbody tr th {\n",
       "        vertical-align: top;\n",
       "    }\n",
       "\n",
       "    .dataframe thead th {\n",
       "        text-align: right;\n",
       "    }\n",
       "</style>\n",
       "<table border=\"1\" class=\"dataframe\">\n",
       "  <thead>\n",
       "    <tr style=\"text-align: right;\">\n",
       "      <th>movieId</th>\n",
       "      <th>1</th>\n",
       "      <th>2</th>\n",
       "      <th>3</th>\n",
       "      <th>4</th>\n",
       "      <th>5</th>\n",
       "      <th>6</th>\n",
       "      <th>7</th>\n",
       "      <th>8</th>\n",
       "      <th>9</th>\n",
       "      <th>10</th>\n",
       "      <th>...</th>\n",
       "      <th>144482</th>\n",
       "      <th>144656</th>\n",
       "      <th>144976</th>\n",
       "      <th>146344</th>\n",
       "      <th>146656</th>\n",
       "      <th>146684</th>\n",
       "      <th>146878</th>\n",
       "      <th>148238</th>\n",
       "      <th>148626</th>\n",
       "      <th>149532</th>\n",
       "    </tr>\n",
       "    <tr>\n",
       "      <th>userId</th>\n",
       "      <th></th>\n",
       "      <th></th>\n",
       "      <th></th>\n",
       "      <th></th>\n",
       "      <th></th>\n",
       "      <th></th>\n",
       "      <th></th>\n",
       "      <th></th>\n",
       "      <th></th>\n",
       "      <th></th>\n",
       "      <th></th>\n",
       "      <th></th>\n",
       "      <th></th>\n",
       "      <th></th>\n",
       "      <th></th>\n",
       "      <th></th>\n",
       "      <th></th>\n",
       "      <th></th>\n",
       "      <th></th>\n",
       "      <th></th>\n",
       "      <th></th>\n",
       "    </tr>\n",
       "  </thead>\n",
       "  <tbody>\n",
       "    <tr>\n",
       "      <th>1</th>\n",
       "      <td>0.0</td>\n",
       "      <td>0.0</td>\n",
       "      <td>0.0</td>\n",
       "      <td>0.0</td>\n",
       "      <td>0.0</td>\n",
       "      <td>0.0</td>\n",
       "      <td>0.0</td>\n",
       "      <td>0.0</td>\n",
       "      <td>0.0</td>\n",
       "      <td>0.0</td>\n",
       "      <td>...</td>\n",
       "      <td>0.0</td>\n",
       "      <td>0.0</td>\n",
       "      <td>0.0</td>\n",
       "      <td>0.0</td>\n",
       "      <td>0.0</td>\n",
       "      <td>0.0</td>\n",
       "      <td>0.0</td>\n",
       "      <td>0.0</td>\n",
       "      <td>0.0</td>\n",
       "      <td>0.0</td>\n",
       "    </tr>\n",
       "    <tr>\n",
       "      <th>2</th>\n",
       "      <td>5.0</td>\n",
       "      <td>0.0</td>\n",
       "      <td>2.0</td>\n",
       "      <td>0.0</td>\n",
       "      <td>3.0</td>\n",
       "      <td>0.0</td>\n",
       "      <td>0.0</td>\n",
       "      <td>0.0</td>\n",
       "      <td>0.0</td>\n",
       "      <td>0.0</td>\n",
       "      <td>...</td>\n",
       "      <td>0.0</td>\n",
       "      <td>0.0</td>\n",
       "      <td>0.0</td>\n",
       "      <td>0.0</td>\n",
       "      <td>0.0</td>\n",
       "      <td>0.0</td>\n",
       "      <td>0.0</td>\n",
       "      <td>0.0</td>\n",
       "      <td>0.0</td>\n",
       "      <td>0.0</td>\n",
       "    </tr>\n",
       "    <tr>\n",
       "      <th>3</th>\n",
       "      <td>0.0</td>\n",
       "      <td>0.0</td>\n",
       "      <td>0.0</td>\n",
       "      <td>0.0</td>\n",
       "      <td>3.0</td>\n",
       "      <td>0.0</td>\n",
       "      <td>3.0</td>\n",
       "      <td>0.0</td>\n",
       "      <td>0.0</td>\n",
       "      <td>0.0</td>\n",
       "      <td>...</td>\n",
       "      <td>0.0</td>\n",
       "      <td>0.0</td>\n",
       "      <td>0.0</td>\n",
       "      <td>0.0</td>\n",
       "      <td>0.0</td>\n",
       "      <td>0.0</td>\n",
       "      <td>0.0</td>\n",
       "      <td>0.0</td>\n",
       "      <td>0.0</td>\n",
       "      <td>0.0</td>\n",
       "    </tr>\n",
       "    <tr>\n",
       "      <th>4</th>\n",
       "      <td>0.0</td>\n",
       "      <td>0.0</td>\n",
       "      <td>0.0</td>\n",
       "      <td>0.0</td>\n",
       "      <td>0.0</td>\n",
       "      <td>0.0</td>\n",
       "      <td>0.0</td>\n",
       "      <td>0.0</td>\n",
       "      <td>0.0</td>\n",
       "      <td>0.0</td>\n",
       "      <td>...</td>\n",
       "      <td>0.0</td>\n",
       "      <td>0.0</td>\n",
       "      <td>0.0</td>\n",
       "      <td>0.0</td>\n",
       "      <td>0.0</td>\n",
       "      <td>0.0</td>\n",
       "      <td>0.0</td>\n",
       "      <td>0.0</td>\n",
       "      <td>0.0</td>\n",
       "      <td>0.0</td>\n",
       "    </tr>\n",
       "  </tbody>\n",
       "</table>\n",
       "<p>4 rows × 10325 columns</p>\n",
       "</div>"
      ],
      "text/plain": [
       "movieId  1       2       3       4       5       6       7       8       \\\n",
       "userId                                                                    \n",
       "1           0.0     0.0     0.0     0.0     0.0     0.0     0.0     0.0   \n",
       "2           5.0     0.0     2.0     0.0     3.0     0.0     0.0     0.0   \n",
       "3           0.0     0.0     0.0     0.0     3.0     0.0     3.0     0.0   \n",
       "4           0.0     0.0     0.0     0.0     0.0     0.0     0.0     0.0   \n",
       "\n",
       "movieId  9       10      ...  144482  144656  144976  146344  146656  146684  \\\n",
       "userId                   ...                                                   \n",
       "1           0.0     0.0  ...     0.0     0.0     0.0     0.0     0.0     0.0   \n",
       "2           0.0     0.0  ...     0.0     0.0     0.0     0.0     0.0     0.0   \n",
       "3           0.0     0.0  ...     0.0     0.0     0.0     0.0     0.0     0.0   \n",
       "4           0.0     0.0  ...     0.0     0.0     0.0     0.0     0.0     0.0   \n",
       "\n",
       "movieId  146878  148238  148626  149532  \n",
       "userId                                   \n",
       "1           0.0     0.0     0.0     0.0  \n",
       "2           0.0     0.0     0.0     0.0  \n",
       "3           0.0     0.0     0.0     0.0  \n",
       "4           0.0     0.0     0.0     0.0  \n",
       "\n",
       "[4 rows x 10325 columns]"
      ]
     },
     "execution_count": 18,
     "metadata": {},
     "output_type": "execute_result"
    }
   ],
   "source": [
    "user_item.head(4)"
   ]
  },
  {
   "cell_type": "code",
   "execution_count": null,
   "metadata": {
    "colab": {
     "base_uri": "https://localhost:8080/",
     "height": 250
    },
    "id": "kagBc-OGc02A",
    "outputId": "213ee945-af8a-4f92-eb6d-de98f9f02cd7"
   },
   "outputs": [],
   "source": []
  },
  {
   "cell_type": "code",
   "execution_count": 19,
   "metadata": {
    "id": "eSU8H4MTc6t9"
   },
   "outputs": [],
   "source": [
    "from scipy.sparse.linalg import svds\n",
    "import numpy as np"
   ]
  },
  {
   "cell_type": "code",
   "execution_count": 20,
   "metadata": {
    "id": "sySPt3WydQLG"
   },
   "outputs": [],
   "source": [
    "#apply svd for different latent dims\n",
    "def apply_svd_with_dim( latent_dim ):\n",
    "  user_f, features, f_movie = svds(user_item, k = latent_dim)\n",
    "  feature_diag_matrix=np.diag(features)\n",
    "  return user_f,feature_diag_matrix,f_movie,features\n",
    "\n",
    "#for the generated matrixes generate predictions\n",
    "def generate_predictions(user_f,feature_diag_matrix,f_movie):\n",
    "  predicted_ratings = np.dot(np.dot(user_f, feature_diag_matrix), f_movie)    \n",
    "  preds_df = pd.DataFrame(predicted_ratings, columns = user_item.columns, index=user_item.index)\n",
    "  return preds_df\n",
    "\n",
    "#utility method to apply svd and generate a dataframe with it\n",
    "def get_svd(dim_latent):\n",
    "  user_feature,feature_diag_matrix,movie_feature,features = apply_svd_with_dim(dim_latent)\n",
    "  df_predictions = generate_predictions(user_feature,feature_diag_matrix,movie_feature)\n",
    "  df_movie_feature = pd.DataFrame( )\n",
    "  #print(features)\n",
    "  df_movie_feature[ \"genres\"] = genres_sorted\n",
    "  df_movie_feature[ \"title\"] = title_sorted\n",
    "  df_movie_feature[ \"movie_feature\"] = movie_feature.T.tolist() \n",
    "  return df_movie_feature,features,df_predictions"
   ]
  },
  {
   "cell_type": "code",
   "execution_count": null,
   "metadata": {
    "id": "N-_r1scopRD7"
   },
   "outputs": [],
   "source": []
  },
  {
   "cell_type": "code",
   "execution_count": 21,
   "metadata": {
    "colab": {
     "base_uri": "https://localhost:8080/"
    },
    "id": "EuHuMUg3pi1t",
    "outputId": "effc071b-6541-4135-fd55-7fa398582558"
   },
   "outputs": [],
   "source": [
    "#generate data for different dimensions\n",
    "\n",
    "df_movie_feature5 ,features_5,df_predictions5 = get_svd(5)\n",
    "df_movie_feature20,features_20,df_predictions20 = get_svd(20)\n",
    "df_movie_feature50,features_50,df_predictions50 = get_svd(50)\n",
    "\n",
    "df_movie_feature100,features_100,df_predictions100 = get_svd(100)\n",
    "df_movie_feature200,features_200,df_predictions200 = get_svd(200)"
   ]
  },
  {
   "cell_type": "code",
   "execution_count": null,
   "metadata": {},
   "outputs": [],
   "source": []
  },
  {
   "cell_type": "code",
   "execution_count": null,
   "metadata": {},
   "outputs": [],
   "source": [
    "\n"
   ]
  },
  {
   "cell_type": "code",
   "execution_count": 22,
   "metadata": {
    "colab": {
     "base_uri": "https://localhost:8080/"
    },
    "id": "OACJQv9Pp2cW",
    "outputId": "147a3512-38df-4400-f983-57c89afcf645"
   },
   "outputs": [
    {
     "name": "stdout",
     "output_type": "stream",
     "text": [
      "features_5 [160.90105453 176.50354004 220.42877044 230.86015596 541.57372104]\n",
      "\n",
      "features_20 [ 93.48631205  94.38514462  95.68863921  97.44113044 101.13641678\n",
      " 104.0215854  107.16268388 110.28730529 113.45205702 118.47315723\n",
      " 120.30630581 123.04858606 130.20027085 138.34731952 143.71249278\n",
      " 160.90105453 176.50354004 220.42877044 230.86015596 541.57372104]\n",
      "\n",
      "features_50 [ 67.77497152  68.11315447  68.42066932  69.48851931  69.72274153\n",
      "  70.15760936  70.64460945  71.35687876  72.04342246  72.49456943\n",
      "  72.73573032  73.72084696  74.05905354  75.09842337  75.75286308\n",
      "  76.53708969  78.38528137  79.1801502   80.15156481  80.36982411\n",
      "  81.50654181  81.70485319  83.48856827  84.10398337  85.47397733\n",
      "  87.99522526  88.34491791  89.15460291  89.73142791  92.29512081\n",
      "  93.48631205  94.38514462  95.68863921  97.44113044 101.13641678\n",
      " 104.0215854  107.16268388 110.28730529 113.45205702 118.47315723\n",
      " 120.30630581 123.04858606 130.20027085 138.34731952 143.71249278\n",
      " 160.90105453 176.50354004 220.42877044 230.86015596 541.57372104]\n",
      "\n",
      "features_100 [ 52.69425056  52.76840533  52.94281001  53.21414761  53.31575762\n",
      "  53.39577559  53.7267482   53.98011808  54.32111119  54.35524292\n",
      "  54.59639328  54.98063042  55.05097458  55.51226821  55.69719222\n",
      "  55.8865868   56.3477966   56.62801585  56.81985439  56.97175431\n",
      "  57.58629435  57.74778955  57.93089512  58.28448441  58.66473638\n",
      "  58.84327377  59.10674391  59.43868964  59.78380836  59.92936929\n",
      "  60.42384553  60.69511022  61.15958413  61.33930668  61.39079433\n",
      "  61.86338991  62.36199269  62.80356054  62.98353834  63.26301138\n",
      "  63.6240788   63.9432263   64.08840148  64.83960669  65.00704297\n",
      "  65.47664442  65.64238739  65.8842913   66.42703218  66.97551648\n",
      "  67.77497152  68.11315447  68.42066932  69.48851931  69.72274153\n",
      "  70.15760936  70.64460945  71.35687876  72.04342246  72.49456943\n",
      "  72.73573032  73.72084696  74.05905354  75.09842337  75.75286308\n",
      "  76.53708969  78.38528137  79.1801502   80.15156481  80.36982411\n",
      "  81.50654181  81.70485319  83.48856827  84.10398337  85.47397733\n",
      "  87.99522526  88.34491791  89.15460291  89.73142791  92.29512081\n",
      "  93.48631205  94.38514462  95.68863921  97.44113044 101.13641678\n",
      " 104.0215854  107.16268388 110.28730529 113.45205702 118.47315723\n",
      " 120.30630581 123.04858606 130.20027085 138.34731952 143.71249278\n",
      " 160.90105453 176.50354004 220.42877044 230.86015596 541.57372104]\n"
     ]
    }
   ],
   "source": [
    "#check features matrixes, u can think these as weights\n",
    "#and if u see a number which is much less than others you can remove\n",
    "#probably it is noise\n",
    "print(\"features_5\",features_5)\n",
    "print(\"\")\n",
    "print(\"features_20\",features_20)\n",
    "print(\"\")\n",
    "print(\"features_50\",features_50)\n",
    "print(\"\")\n",
    "print(\"features_100\",features_100)"
   ]
  },
  {
   "cell_type": "code",
   "execution_count": 25,
   "metadata": {
    "colab": {
     "base_uri": "https://localhost:8080/"
    },
    "id": "jDQ3HCNZdcsm",
    "outputId": "da21f218-5bd2-4f07-a7c1-58adc623f256"
   },
   "outputs": [
    {
     "name": "stdout",
     "output_type": "stream",
     "text": [
      "(669, 5)\n",
      "(5, 5)\n",
      "(5, 10325)\n",
      "[160.90105453 176.50354004 220.42877044 230.86015596 541.57372104]\n"
     ]
    }
   ],
   "source": [
    "#TODO remove\n",
    "user_feature,feature_diag_matrix,movie_feature,features = apply_svd_with_dim(5)\n",
    "print( user_feature.shape )\n",
    "print( feature_diag_matrix.shape )\n",
    "print( movie_feature.shape )\n",
    "print(features)\n",
    "\n",
    "df_predictions = generate_predictions(user_feature,feature_diag_matrix,movie_feature)\n",
    "df_movie_feature = pd.DataFrame( )\n",
    "\n",
    "\n",
    "\n",
    "df_movie_feature[ \"genres\"] = genres_sorted\n",
    "df_movie_feature[ \"title\"] = title_sorted\n",
    "df_movie_feature[ \"movie_feature\"] = movie_feature.T.tolist() "
   ]
  },
  {
   "cell_type": "code",
   "execution_count": 26,
   "metadata": {
    "colab": {
     "base_uri": "https://localhost:8080/"
    },
    "id": "pCawEmQ9dedP",
    "outputId": "2fe229e0-2ce4-4f31-927a-322ed9fc66d3"
   },
   "outputs": [],
   "source": [
    "#df_predictions = generate_predictions(user_feature,feature_diag_matrix,movie_feature)\n",
    "#df_predictions.shape"
   ]
  },
  {
   "cell_type": "code",
   "execution_count": 27,
   "metadata": {
    "colab": {
     "base_uri": "https://localhost:8080/",
     "height": 220
    },
    "id": "OCxJ6UJidojY",
    "outputId": "b11957c5-8000-4f3e-ab12-132848babd9b"
   },
   "outputs": [
    {
     "data": {
      "text/html": [
       "<div>\n",
       "<style scoped>\n",
       "    .dataframe tbody tr th:only-of-type {\n",
       "        vertical-align: middle;\n",
       "    }\n",
       "\n",
       "    .dataframe tbody tr th {\n",
       "        vertical-align: top;\n",
       "    }\n",
       "\n",
       "    .dataframe thead th {\n",
       "        text-align: right;\n",
       "    }\n",
       "</style>\n",
       "<table border=\"1\" class=\"dataframe\">\n",
       "  <thead>\n",
       "    <tr style=\"text-align: right;\">\n",
       "      <th>movieId</th>\n",
       "      <th>1</th>\n",
       "      <th>2</th>\n",
       "      <th>3</th>\n",
       "      <th>4</th>\n",
       "      <th>5</th>\n",
       "      <th>6</th>\n",
       "      <th>7</th>\n",
       "      <th>8</th>\n",
       "      <th>9</th>\n",
       "      <th>10</th>\n",
       "      <th>...</th>\n",
       "      <th>144482</th>\n",
       "      <th>144656</th>\n",
       "      <th>144976</th>\n",
       "      <th>146344</th>\n",
       "      <th>146656</th>\n",
       "      <th>146684</th>\n",
       "      <th>146878</th>\n",
       "      <th>148238</th>\n",
       "      <th>148626</th>\n",
       "      <th>149532</th>\n",
       "    </tr>\n",
       "    <tr>\n",
       "      <th>userId</th>\n",
       "      <th></th>\n",
       "      <th></th>\n",
       "      <th></th>\n",
       "      <th></th>\n",
       "      <th></th>\n",
       "      <th></th>\n",
       "      <th></th>\n",
       "      <th></th>\n",
       "      <th></th>\n",
       "      <th></th>\n",
       "      <th></th>\n",
       "      <th></th>\n",
       "      <th></th>\n",
       "      <th></th>\n",
       "      <th></th>\n",
       "      <th></th>\n",
       "      <th></th>\n",
       "      <th></th>\n",
       "      <th></th>\n",
       "      <th></th>\n",
       "      <th></th>\n",
       "    </tr>\n",
       "  </thead>\n",
       "  <tbody>\n",
       "    <tr>\n",
       "      <th>1</th>\n",
       "      <td>2.244121</td>\n",
       "      <td>0.781555</td>\n",
       "      <td>-0.019930</td>\n",
       "      <td>0.023924</td>\n",
       "      <td>0.108648</td>\n",
       "      <td>0.819317</td>\n",
       "      <td>0.047663</td>\n",
       "      <td>0.008983</td>\n",
       "      <td>-0.035280</td>\n",
       "      <td>1.053225</td>\n",
       "      <td>...</td>\n",
       "      <td>0.021298</td>\n",
       "      <td>-0.007142</td>\n",
       "      <td>-0.054427</td>\n",
       "      <td>-0.004081</td>\n",
       "      <td>0.022276</td>\n",
       "      <td>0.013699</td>\n",
       "      <td>0.008562</td>\n",
       "      <td>-0.006122</td>\n",
       "      <td>-0.086983</td>\n",
       "      <td>-0.008163</td>\n",
       "    </tr>\n",
       "    <tr>\n",
       "      <th>2</th>\n",
       "      <td>0.417457</td>\n",
       "      <td>0.228670</td>\n",
       "      <td>0.155480</td>\n",
       "      <td>0.053551</td>\n",
       "      <td>0.159560</td>\n",
       "      <td>0.287265</td>\n",
       "      <td>0.194862</td>\n",
       "      <td>0.018741</td>\n",
       "      <td>0.066500</td>\n",
       "      <td>0.456863</td>\n",
       "      <td>...</td>\n",
       "      <td>-0.004044</td>\n",
       "      <td>-0.001901</td>\n",
       "      <td>0.000255</td>\n",
       "      <td>-0.001086</td>\n",
       "      <td>-0.007021</td>\n",
       "      <td>-0.003007</td>\n",
       "      <td>-0.001880</td>\n",
       "      <td>-0.001630</td>\n",
       "      <td>0.001294</td>\n",
       "      <td>-0.002173</td>\n",
       "    </tr>\n",
       "    <tr>\n",
       "      <th>3</th>\n",
       "      <td>1.376954</td>\n",
       "      <td>0.864621</td>\n",
       "      <td>0.532816</td>\n",
       "      <td>0.190015</td>\n",
       "      <td>0.598891</td>\n",
       "      <td>0.951395</td>\n",
       "      <td>0.685031</td>\n",
       "      <td>0.080138</td>\n",
       "      <td>0.254902</td>\n",
       "      <td>1.869014</td>\n",
       "      <td>...</td>\n",
       "      <td>-0.010661</td>\n",
       "      <td>-0.010658</td>\n",
       "      <td>0.013479</td>\n",
       "      <td>-0.006090</td>\n",
       "      <td>-0.023350</td>\n",
       "      <td>-0.002002</td>\n",
       "      <td>-0.001251</td>\n",
       "      <td>-0.009135</td>\n",
       "      <td>0.041111</td>\n",
       "      <td>-0.012180</td>\n",
       "    </tr>\n",
       "  </tbody>\n",
       "</table>\n",
       "<p>3 rows × 10325 columns</p>\n",
       "</div>"
      ],
      "text/plain": [
       "movieId    1         2         3         4         5         6         7       \\\n",
       "userId                                                                          \n",
       "1        2.244121  0.781555 -0.019930  0.023924  0.108648  0.819317  0.047663   \n",
       "2        0.417457  0.228670  0.155480  0.053551  0.159560  0.287265  0.194862   \n",
       "3        1.376954  0.864621  0.532816  0.190015  0.598891  0.951395  0.685031   \n",
       "\n",
       "movieId    8         9         10      ...    144482    144656    144976  \\\n",
       "userId                                 ...                                 \n",
       "1        0.008983 -0.035280  1.053225  ...  0.021298 -0.007142 -0.054427   \n",
       "2        0.018741  0.066500  0.456863  ... -0.004044 -0.001901  0.000255   \n",
       "3        0.080138  0.254902  1.869014  ... -0.010661 -0.010658  0.013479   \n",
       "\n",
       "movieId    146344    146656    146684    146878    148238    148626    149532  \n",
       "userId                                                                         \n",
       "1       -0.004081  0.022276  0.013699  0.008562 -0.006122 -0.086983 -0.008163  \n",
       "2       -0.001086 -0.007021 -0.003007 -0.001880 -0.001630  0.001294 -0.002173  \n",
       "3       -0.006090 -0.023350 -0.002002 -0.001251 -0.009135  0.041111 -0.012180  \n",
       "\n",
       "[3 rows x 10325 columns]"
      ]
     },
     "execution_count": 27,
     "metadata": {},
     "output_type": "execute_result"
    }
   ],
   "source": [
    "df_predictions.head(3)"
   ]
  },
  {
   "cell_type": "code",
   "execution_count": 28,
   "metadata": {},
   "outputs": [],
   "source": [
    "#user_ids.tolist()  669"
   ]
  },
  {
   "cell_type": "code",
   "execution_count": 29,
   "metadata": {},
   "outputs": [
    {
     "data": {
      "text/html": [
       "<div>\n",
       "<style scoped>\n",
       "    .dataframe tbody tr th:only-of-type {\n",
       "        vertical-align: middle;\n",
       "    }\n",
       "\n",
       "    .dataframe tbody tr th {\n",
       "        vertical-align: top;\n",
       "    }\n",
       "\n",
       "    .dataframe thead th {\n",
       "        text-align: right;\n",
       "    }\n",
       "</style>\n",
       "<table border=\"1\" class=\"dataframe\">\n",
       "  <thead>\n",
       "    <tr style=\"text-align: right;\">\n",
       "      <th></th>\n",
       "      <th>user_id</th>\n",
       "      <th>user_feature</th>\n",
       "    </tr>\n",
       "  </thead>\n",
       "  <tbody>\n",
       "    <tr>\n",
       "      <th>0</th>\n",
       "      <td>1</td>\n",
       "      <td>[0.06382285500333078, -0.014155681199677516, 0...</td>\n",
       "    </tr>\n",
       "    <tr>\n",
       "      <th>1</th>\n",
       "      <td>2</td>\n",
       "      <td>[0.0015994635519848777, 0.01367331704126093, 0...</td>\n",
       "    </tr>\n",
       "    <tr>\n",
       "      <th>2</th>\n",
       "      <td>3</td>\n",
       "      <td>[0.033567701410516695, 0.07147524576436985, 0....</td>\n",
       "    </tr>\n",
       "    <tr>\n",
       "      <th>3</th>\n",
       "      <td>4</td>\n",
       "      <td>[0.05153228288548356, -0.04589555038793302, -0...</td>\n",
       "    </tr>\n",
       "    <tr>\n",
       "      <th>4</th>\n",
       "      <td>5</td>\n",
       "      <td>[0.000724424135900615, 0.002951478419209708, 0...</td>\n",
       "    </tr>\n",
       "  </tbody>\n",
       "</table>\n",
       "</div>"
      ],
      "text/plain": [
       "   user_id                                       user_feature\n",
       "0        1  [0.06382285500333078, -0.014155681199677516, 0...\n",
       "1        2  [0.0015994635519848777, 0.01367331704126093, 0...\n",
       "2        3  [0.033567701410516695, 0.07147524576436985, 0....\n",
       "3        4  [0.05153228288548356, -0.04589555038793302, -0...\n",
       "4        5  [0.000724424135900615, 0.002951478419209708, 0..."
      ]
     },
     "execution_count": 29,
     "metadata": {},
     "output_type": "execute_result"
    }
   ],
   "source": [
    "#create a user feature dataframe\n",
    "\n",
    "df_user_features = pd.DataFrame( )\n",
    "\n",
    "df_user_features[ \"user_id\"] = user_ids.tolist() \n",
    "df_user_features[ \"user_feature\"] = user_feature.tolist() \n",
    "df_user_features.head( 5 )\n"
   ]
  },
  {
   "cell_type": "code",
   "execution_count": 30,
   "metadata": {
    "id": "iw5VZycrgfUt"
   },
   "outputs": [],
   "source": [
    "#create a user movie dataframe\n",
    "df_movie_feature = pd.DataFrame( )\n",
    "df_movie_feature[ \"genres\"] = genres_sorted\n",
    "df_movie_feature[ \"title\"] = title_sorted\n",
    "df_movie_feature[ \"movie_feature\"] = movie_feature.T.tolist() "
   ]
  },
  {
   "cell_type": "code",
   "execution_count": 31,
   "metadata": {
    "colab": {
     "base_uri": "https://localhost:8080/",
     "height": 170
    },
    "id": "eRjSuEfwjRbf",
    "outputId": "585b7eca-e000-4329-dc57-a2ece3b48236"
   },
   "outputs": [
    {
     "data": {
      "text/html": [
       "<div>\n",
       "<style scoped>\n",
       "    .dataframe tbody tr th:only-of-type {\n",
       "        vertical-align: middle;\n",
       "    }\n",
       "\n",
       "    .dataframe tbody tr th {\n",
       "        vertical-align: top;\n",
       "    }\n",
       "\n",
       "    .dataframe thead th {\n",
       "        text-align: right;\n",
       "    }\n",
       "</style>\n",
       "<table border=\"1\" class=\"dataframe\">\n",
       "  <thead>\n",
       "    <tr style=\"text-align: right;\">\n",
       "      <th></th>\n",
       "      <th>genres</th>\n",
       "      <th>title</th>\n",
       "      <th>movie_feature</th>\n",
       "    </tr>\n",
       "  </thead>\n",
       "  <tbody>\n",
       "    <tr>\n",
       "      <th>0</th>\n",
       "      <td>Adventure|Animation|Children|Comedy|Fantasy</td>\n",
       "      <td>Toy Story (1995)</td>\n",
       "      <td>[0.03023206340790512, 0.004140776526474332, 0....</td>\n",
       "    </tr>\n",
       "    <tr>\n",
       "      <th>1</th>\n",
       "      <td>Adventure|Children|Fantasy</td>\n",
       "      <td>Jumanji (1995)</td>\n",
       "      <td>[0.0029633795935668636, 0.03420429912517415, 0...</td>\n",
       "    </tr>\n",
       "    <tr>\n",
       "      <th>2</th>\n",
       "      <td>Comedy|Romance</td>\n",
       "      <td>Grumpier Old Men (1995)</td>\n",
       "      <td>[-0.01999921508513389, 0.03217626962055229, -0...</td>\n",
       "    </tr>\n",
       "    <tr>\n",
       "      <th>3</th>\n",
       "      <td>Comedy|Drama|Romance</td>\n",
       "      <td>Waiting to Exhale (1995)</td>\n",
       "      <td>[-0.001016369036543841, 0.007298146514648678, ...</td>\n",
       "    </tr>\n",
       "  </tbody>\n",
       "</table>\n",
       "</div>"
      ],
      "text/plain": [
       "                                        genres                     title  \\\n",
       "0  Adventure|Animation|Children|Comedy|Fantasy          Toy Story (1995)   \n",
       "1                   Adventure|Children|Fantasy            Jumanji (1995)   \n",
       "2                               Comedy|Romance   Grumpier Old Men (1995)   \n",
       "3                         Comedy|Drama|Romance  Waiting to Exhale (1995)   \n",
       "\n",
       "                                       movie_feature  \n",
       "0  [0.03023206340790512, 0.004140776526474332, 0....  \n",
       "1  [0.0029633795935668636, 0.03420429912517415, 0...  \n",
       "2  [-0.01999921508513389, 0.03217626962055229, -0...  \n",
       "3  [-0.001016369036543841, 0.007298146514648678, ...  "
      ]
     },
     "execution_count": 31,
     "metadata": {},
     "output_type": "execute_result"
    }
   ],
   "source": [
    "#len(df_movie_feature.iloc[0].to_numpy()[0])\n",
    "df_movie_feature.head(4)"
   ]
  },
  {
   "cell_type": "code",
   "execution_count": 32,
   "metadata": {
    "colab": {
     "base_uri": "https://localhost:8080/"
    },
    "id": "kqZ_XYi9gfRl",
    "outputId": "939ef069-d9d6-4d1b-c8f2-c69094862da2"
   },
   "outputs": [
    {
     "data": {
      "text/plain": [
       "(10325, 5)"
      ]
     },
     "execution_count": 32,
     "metadata": {},
     "output_type": "execute_result"
    }
   ],
   "source": [
    "features_numpy = np.array( [ np.array(x) for x in  df_movie_feature[ \"movie_feature\"].to_numpy() ])\n",
    "features_numpy.shape"
   ]
  },
  {
   "cell_type": "code",
   "execution_count": 33,
   "metadata": {
    "colab": {
     "base_uri": "https://localhost:8080/"
    },
    "id": "vhy1Nk9mgfOy",
    "outputId": "f33d39cd-993e-4b5b-f63a-8edca96a7068"
   },
   "outputs": [
    {
     "data": {
      "text/plain": [
       "array([ 0.03023206,  0.00414078,  0.04535296, -0.0388622 , -0.07300348])"
      ]
     },
     "execution_count": 33,
     "metadata": {},
     "output_type": "execute_result"
    }
   ],
   "source": [
    "features_numpy[0]"
   ]
  },
  {
   "cell_type": "code",
   "execution_count": 34,
   "metadata": {
    "colab": {
     "base_uri": "https://localhost:8080/"
    },
    "id": "UxpSLC8egdiI",
    "outputId": "aa8118d6-ae8b-405c-9ad2-c75bd13dc7e1"
   },
   "outputs": [
    {
     "name": "stdout",
     "output_type": "stream",
     "text": [
      "index 230 -> movieId260 \n"
     ]
    }
   ],
   "source": [
    "movieId = df_user_movie_rating[ df_user_movie_rating[\"title\"] == \"Star Wars: Episode IV - A New Hope (1977)\"][\"movieId\"].iloc[0]\n",
    "#movieId = 260\n",
    "index = movieId_index_map[movieId]\n",
    "print(f\"index {index} -> movieId{movieId} \")"
   ]
  },
  {
   "cell_type": "code",
   "execution_count": 35,
   "metadata": {
    "id": "hu8fCo7Mid8w"
   },
   "outputs": [],
   "source": [
    "from sklearn.metrics.pairwise import cosine_similarity\n",
    "\n",
    "def get_movie_id_byname(title):\n",
    "  movieId = df_user_movie_rating[ df_user_movie_rating[\"title\"] == title][\"movieId\"].iloc[0]\n",
    "  index = movieId_index_map[movieId]\n",
    "  return index ,movieId\n",
    "\n",
    "def get_similarity_for_movie(df_movie_features,title,top_n=10,dump_results=False):\n",
    "\n",
    "  features_numpy = np.array( [ np.array(x) for x in  df_movie_features[ \"movie_feature\"].to_numpy() ])\n",
    "\n",
    "  index ,movieId = get_movie_id_byname( title )\n",
    "  all_cosines = cosine_similarity(features_numpy[index].reshape(1,-1),features_numpy)\n",
    "  all_cosines = all_cosines.flatten()\n",
    "  top_indexes = all_cosines.argsort()[-1 * top_n:][::-1]\n",
    "  #print(top_indexes)\n",
    "  similar_results = []\n",
    "  for top_index in top_indexes:\n",
    "    #top_index+1 because movie ids begin from 0\n",
    "    if dump_results: \n",
    "      print( f\"{index_movieId_map[top_index]} ){all_cosines[top_index]} -> {movieId_title_map[index_movieId_map[top_index]]}\")\n",
    "    movie_name = movieId_title_map[index_movieId_map[top_index]]\n",
    "    similar_results.append( [ top_index,index_movieId_map[top_index],all_cosines[top_index],movie_name]  )\n",
    "  return similar_results   \n",
    "\n",
    "def get_similarity_for_user(df_user_features_,user_index,top_n=4,dump_results=False):\n",
    "  index = user_index - 1\n",
    "  features_numpy = np.array( [ np.array(x) for x in  df_user_features_[ \"user_feature\"].to_numpy() ])\n",
    "\n",
    "  all_cosines = cosine_similarity(features_numpy[index].reshape(1,-1),features_numpy)\n",
    "  all_cosines = all_cosines.flatten()\n",
    "  top_indexes = all_cosines.argsort()[-1 * top_n:][::-1]\n",
    "  print(top_indexes)\n",
    "  similar_results = []\n",
    "  for top_index in top_indexes[1:]:\n",
    "        similar_user = top_index + 1\n",
    "        df_sub = df_user_movie_rating[ df_user_movie_rating[\"userId\"] == similar_user ]\n",
    "        df_sub = df_sub.sort_values(by=['rating'], ascending=False)\n",
    "        similar_results.extend( df_sub[[\"userId\",\"rating\",\"title\"]].head(5).to_numpy() )\n",
    "  \n",
    "  return similar_results   "
   ]
  },
  {
   "cell_type": "code",
   "execution_count": 36,
   "metadata": {},
   "outputs": [
    {
     "name": "stdout",
     "output_type": "stream",
     "text": [
      "[668 666 167 492]\n"
     ]
    },
    {
     "data": {
      "text/html": [
       "<div>\n",
       "<style scoped>\n",
       "    .dataframe tbody tr th:only-of-type {\n",
       "        vertical-align: middle;\n",
       "    }\n",
       "\n",
       "    .dataframe tbody tr th {\n",
       "        vertical-align: top;\n",
       "    }\n",
       "\n",
       "    .dataframe thead th {\n",
       "        text-align: right;\n",
       "    }\n",
       "</style>\n",
       "<table border=\"1\" class=\"dataframe\">\n",
       "  <thead>\n",
       "    <tr style=\"text-align: right;\">\n",
       "      <th></th>\n",
       "      <th>userId</th>\n",
       "      <th>rating</th>\n",
       "      <th>Movie</th>\n",
       "    </tr>\n",
       "  </thead>\n",
       "  <tbody>\n",
       "    <tr>\n",
       "      <th>0</th>\n",
       "      <td>667</td>\n",
       "      <td>5.0</td>\n",
       "      <td>Hours, The (2002)</td>\n",
       "    </tr>\n",
       "    <tr>\n",
       "      <th>1</th>\n",
       "      <td>667</td>\n",
       "      <td>5.0</td>\n",
       "      <td>Lord of the Rings: The Fellowship of the Ring,...</td>\n",
       "    </tr>\n",
       "    <tr>\n",
       "      <th>2</th>\n",
       "      <td>667</td>\n",
       "      <td>4.5</td>\n",
       "      <td>Twelve Monkeys (a.k.a. 12 Monkeys) (1995)</td>\n",
       "    </tr>\n",
       "    <tr>\n",
       "      <th>3</th>\n",
       "      <td>667</td>\n",
       "      <td>4.5</td>\n",
       "      <td>Being John Malkovich (1999)</td>\n",
       "    </tr>\n",
       "    <tr>\n",
       "      <th>4</th>\n",
       "      <td>667</td>\n",
       "      <td>4.5</td>\n",
       "      <td>Seven (a.k.a. Se7en) (1995)</td>\n",
       "    </tr>\n",
       "    <tr>\n",
       "      <th>5</th>\n",
       "      <td>168</td>\n",
       "      <td>5.0</td>\n",
       "      <td>Lion King, The (1994)</td>\n",
       "    </tr>\n",
       "    <tr>\n",
       "      <th>6</th>\n",
       "      <td>168</td>\n",
       "      <td>5.0</td>\n",
       "      <td>Shawshank Redemption, The (1994)</td>\n",
       "    </tr>\n",
       "    <tr>\n",
       "      <th>7</th>\n",
       "      <td>168</td>\n",
       "      <td>5.0</td>\n",
       "      <td>Jerry Maguire (1996)</td>\n",
       "    </tr>\n",
       "    <tr>\n",
       "      <th>8</th>\n",
       "      <td>168</td>\n",
       "      <td>5.0</td>\n",
       "      <td>Star Wars: Episode V - The Empire Strikes Back...</td>\n",
       "    </tr>\n",
       "    <tr>\n",
       "      <th>9</th>\n",
       "      <td>168</td>\n",
       "      <td>5.0</td>\n",
       "      <td>Forrest Gump (1994)</td>\n",
       "    </tr>\n",
       "    <tr>\n",
       "      <th>10</th>\n",
       "      <td>493</td>\n",
       "      <td>5.0</td>\n",
       "      <td>One Flew Over the Cuckoo's Nest (1975)</td>\n",
       "    </tr>\n",
       "    <tr>\n",
       "      <th>11</th>\n",
       "      <td>493</td>\n",
       "      <td>5.0</td>\n",
       "      <td>Schindler's List (1993)</td>\n",
       "    </tr>\n",
       "    <tr>\n",
       "      <th>12</th>\n",
       "      <td>493</td>\n",
       "      <td>5.0</td>\n",
       "      <td>Psycho (1960)</td>\n",
       "    </tr>\n",
       "    <tr>\n",
       "      <th>13</th>\n",
       "      <td>493</td>\n",
       "      <td>5.0</td>\n",
       "      <td>Exorcist, The (1973)</td>\n",
       "    </tr>\n",
       "    <tr>\n",
       "      <th>14</th>\n",
       "      <td>493</td>\n",
       "      <td>5.0</td>\n",
       "      <td>Dead Man Walking (1995)</td>\n",
       "    </tr>\n",
       "  </tbody>\n",
       "</table>\n",
       "</div>"
      ],
      "text/plain": [
       "   userId rating                                              Movie\n",
       "0     667    5.0                                  Hours, The (2002)\n",
       "1     667    5.0  Lord of the Rings: The Fellowship of the Ring,...\n",
       "2     667    4.5          Twelve Monkeys (a.k.a. 12 Monkeys) (1995)\n",
       "3     667    4.5                        Being John Malkovich (1999)\n",
       "4     667    4.5                        Seven (a.k.a. Se7en) (1995)\n",
       "5     168    5.0                              Lion King, The (1994)\n",
       "6     168    5.0                   Shawshank Redemption, The (1994)\n",
       "7     168    5.0                               Jerry Maguire (1996)\n",
       "8     168    5.0  Star Wars: Episode V - The Empire Strikes Back...\n",
       "9     168    5.0                                Forrest Gump (1994)\n",
       "10    493    5.0             One Flew Over the Cuckoo's Nest (1975)\n",
       "11    493    5.0                            Schindler's List (1993)\n",
       "12    493    5.0                                      Psycho (1960)\n",
       "13    493    5.0                               Exorcist, The (1973)\n",
       "14    493    5.0                            Dead Man Walking (1995)"
      ]
     },
     "execution_count": 36,
     "metadata": {},
     "output_type": "execute_result"
    }
   ],
   "source": [
    "#get similar users with you and show their top rated movies\n",
    "#Are results good?\n",
    "pd.DataFrame( np.array(get_similarity_for_user(df_user_features,my_id)) ,columns=[\"userId\",\"rating\",\"Movie\"])"
   ]
  },
  {
   "cell_type": "code",
   "execution_count": null,
   "metadata": {},
   "outputs": [],
   "source": []
  },
  {
   "cell_type": "code",
   "execution_count": null,
   "metadata": {},
   "outputs": [],
   "source": []
  },
  {
   "cell_type": "code",
   "execution_count": null,
   "metadata": {},
   "outputs": [],
   "source": []
  },
  {
   "cell_type": "code",
   "execution_count": 37,
   "metadata": {
    "id": "oLYIYmKKorRI"
   },
   "outputs": [
    {
     "name": "stdout",
     "output_type": "stream",
     "text": [
      "df_movie_feature5\n",
      "260 )1.0000000000000002 -> Star Wars: Episode IV - A New Hope (1977)\n",
      "1198 )0.9907068054182815 -> Raiders of the Lost Ark (Indiana Jones and the Raiders of the Lost Ark) (1981)\n",
      "1270 )0.9879725725429758 -> Back to the Future (1985)\n",
      "1196 )0.9801329176833984 -> Star Wars: Episode V - The Empire Strikes Back (1980)\n",
      "2028 )0.9689809951432004 -> Saving Private Ryan (1998)\n",
      "2799 )0.9609155371642213 -> Problem Child 2 (1991)\n",
      "1089 )0.949603646801789 -> Reservoir Dogs (1992)\n",
      "1210 )0.9445297114803557 -> Star Wars: Episode VI - Return of the Jedi (1983)\n",
      "1136 )0.9423509725778274 -> Monty Python and the Holy Grail (1975)\n",
      "1265 )0.9368680097768936 -> Groundhog Day (1993)\n",
      "df_movie_feature20\n",
      "260 )0.9999999999999998 -> Star Wars: Episode IV - A New Hope (1977)\n",
      "1210 )0.9571210743716894 -> Star Wars: Episode VI - Return of the Jedi (1983)\n",
      "1 )0.8106156519992324 -> Toy Story (1995)\n",
      "780 )0.8105105328344275 -> Independence Day (a.k.a. ID4) (1996)\n",
      "1196 )0.7539218449003093 -> Star Wars: Episode V - The Empire Strikes Back (1980)\n",
      "648 )0.7443504622819895 -> Mission: Impossible (1996)\n",
      "733 )0.7303890562054596 -> Rock, The (1996)\n",
      "1580 )0.6937960920541835 -> Men in Black (a.k.a. MIB) (1997)\n",
      "1198 )0.6888810684670407 -> Raiders of the Lost Ark (Indiana Jones and the Raiders of the Lost Ark) (1981)\n",
      "618 )0.6771938019650895 -> Two Much (1995)\n",
      "df_movie_feature50\n",
      "260 )0.9999999999999998 -> Star Wars: Episode IV - A New Hope (1977)\n",
      "1210 )0.826970742438492 -> Star Wars: Episode VI - Return of the Jedi (1983)\n",
      "1196 )0.7158343138144241 -> Star Wars: Episode V - The Empire Strikes Back (1980)\n",
      "780 )0.5168164649215975 -> Independence Day (a.k.a. ID4) (1996)\n",
      "1198 )0.5041614825580734 -> Raiders of the Lost Ark (Indiana Jones and the Raiders of the Lost Ark) (1981)\n",
      "993 )0.49372676421338585 -> Infinity (1996)\n",
      "618 )0.4936635007362338 -> Two Much (1995)\n",
      "1 )0.4897486351742783 -> Toy Story (1995)\n",
      "1390 )0.46785828118754785 -> My Fellow Americans (1996)\n",
      "1471 )0.45888719710529663 -> Boys Life 2 (1997)\n",
      "df_movie_feature100\n",
      "260 )1.0 -> Star Wars: Episode IV - A New Hope (1977)\n",
      "1196 )0.6946486507887075 -> Star Wars: Episode V - The Empire Strikes Back (1980)\n",
      "1210 )0.6136180237539699 -> Star Wars: Episode VI - Return of the Jedi (1983)\n",
      "226 )0.3144639372870211 -> Dream Man (1995)\n",
      "2882 )0.3095792885783813 -> Jakob the Liar (1999)\n",
      "71550 )0.2998285009818546 -> Assassination of a High School President (2008)\n",
      "68392 )0.29982850098185454 -> Happy Campers (2001)\n",
      "8643 )0.2977792028641997 -> Cinderella Story, A (2004)\n",
      "33493 )0.2942752137605703 -> Star Wars: Episode III - Revenge of the Sith (2005)\n",
      "1232 )0.28667895569105806 -> Stalker (1979)\n"
     ]
    }
   ],
   "source": [
    "#dump suggestions for different dimensions\n",
    "#Are results getting better when dimension is higher?\n",
    "models = [df_movie_feature5,df_movie_feature20,df_movie_feature50,df_movie_feature100]\n",
    "names  = [\"df_movie_feature5\",\"df_movie_feature20\",\"df_movie_feature50\",\"df_movie_feature100\"]\n",
    "movie_name = \"Star Wars: Episode IV - A New Hope (1977)\"\n",
    "for model_,name in zip( models,names) :\n",
    "    print(name)\n",
    "    similar_results = get_similarity_for_movie(model_,movie_name ,top_n=10,dump_results=True)\n",
    "  \n",
    "    "
   ]
  },
  {
   "cell_type": "code",
   "execution_count": 38,
   "metadata": {
    "id": "ihja22Mfrjs7"
   },
   "outputs": [],
   "source": [
    "def get_2d_map(df_movie_feature_,title,item_count):\n",
    "    similar_results = get_similarity_for_movie(df_movie_feature_, title ,item_count,False)\n",
    "\n",
    "    features_numpy = np.array( [ np.array(x) for x in  df_movie_feature_[ \"movie_feature\"].to_numpy() ])\n",
    "    pca = PCA(2)\n",
    "    features_numpy_2d = pca.fit_transform( features_numpy )\n",
    "    indexes = np.array(similar_results)[:,0]\n",
    "    movie_names = np.array(similar_results)[:,3]\n",
    "    \n",
    "    feature_indexes = indexes.tolist()\n",
    "    data_2d = features_numpy_2d[np.asarray(indexes).astype(\"int8\") ,:]\n",
    "    return data_2d[:,0:1],data_2d[:,1],movie_names\n",
    "\n",
    "\n",
    "def draw_on_2d(x,y,labels):\n",
    "    fig, ax = plt.subplots()\n",
    "    fig.set_size_inches(10,10)\n",
    "    ax.scatter(x, y)\n",
    "\n",
    "    for i, txt in enumerate(labels):\n",
    "        txt = txt[0:txt.find(\"(\")]\n",
    "        ax.annotate(txt, (x[i], y[i]))"
   ]
  },
  {
   "cell_type": "code",
   "execution_count": 39,
   "metadata": {},
   "outputs": [
    {
     "data": {
      "image/png": "[encoded data removed]",
      "text/plain": [
       "<Figure size 720x720 with 1 Axes>"
      ]
     },
     "metadata": {
      "needs_background": "light"
     },
     "output_type": "display_data"
    },
    {
     "data": {
      "image/png": "[encoded data removed]",
      "text/plain": [
       "<Figure size 720x720 with 1 Axes>"
      ]
     },
     "metadata": {
      "needs_background": "light"
     },
     "output_type": "display_data"
    }
   ],
   "source": [
    "#Find 10 most similar movie to Terminator for 50 features\n",
    "x,y,movie_names = get_2d_map(df_movie_feature50,'Terminator, The (1984)',10)\n",
    "_ = draw_on_2d( x,y,movie_names  )\n",
    "#Find 100 most similar movie to Terminator\n",
    "x,y,movie_names = get_2d_map(df_movie_feature50,'Terminator, The (1984)',40)\n",
    "_ = draw_on_2d( x,y,movie_names  )"
   ]
  },
  {
   "cell_type": "code",
   "execution_count": 40,
   "metadata": {},
   "outputs": [
    {
     "data": {
      "image/png": "[encoded data removed]",
      "text/plain": [
       "<Figure size 720x720 with 1 Axes>"
      ]
     },
     "metadata": {
      "needs_background": "light"
     },
     "output_type": "display_data"
    },
    {
     "data": {
      "image/png": "[encoded data removed]",
      "text/plain": [
       "<Figure size 720x720 with 1 Axes>"
      ]
     },
     "metadata": {
      "needs_background": "light"
     },
     "output_type": "display_data"
    }
   ],
   "source": [
    "#Find 10 most similar movie to Terminator\n",
    "x,y,movie_names = get_2d_map(df_movie_feature200,'Terminator, The (1984)',10)\n",
    "_ = draw_on_2d( x,y,movie_names  )\n",
    "#Find 100 most similar movie to Terminator\n",
    "x,y,movie_names = get_2d_map(df_movie_feature200,'Terminator, The (1984)',40)\n",
    "_ = draw_on_2d( x,y,movie_names  )"
   ]
  },
  {
   "cell_type": "code",
   "execution_count": null,
   "metadata": {},
   "outputs": [],
   "source": []
  },
  {
   "cell_type": "code",
   "execution_count": null,
   "metadata": {},
   "outputs": [],
   "source": []
  },
  {
   "cell_type": "code",
   "execution_count": null,
   "metadata": {},
   "outputs": [],
   "source": []
  },
  {
   "cell_type": "code",
   "execution_count": null,
   "metadata": {},
   "outputs": [],
   "source": []
  },
  {
   "cell_type": "code",
   "execution_count": null,
   "metadata": {},
   "outputs": [],
   "source": []
  }
 ],
 "metadata": {
  "colab": {
   "collapsed_sections": [],
   "name": "suprise_svd_v2.ipynb",
   "provenance": []
  },
  "kernelspec": {
   "display_name": "Python 3",
   "language": "python",
   "name": "python3"
  },
  "language_info": {
   "codemirror_mode": {
    "name": "ipython",
    "version": 3
   },
   "file_extension": ".py",
   "mimetype": "text/x-python",
   "name": "python",
   "nbconvert_exporter": "python",
   "pygments_lexer": "ipython3",
   "version": "3.7.10"
  }
 },
 "nbformat": 4,
 "nbformat_minor": 1
}
